{
  "nbformat": 4,
  "nbformat_minor": 0,
  "metadata": {
    "colab": {
      "provenance": [],
      "authorship_tag": "ABX9TyOjjPlYOYHJ7UnnAPJKmhis",
      "include_colab_link": true
    },
    "kernelspec": {
      "name": "python3",
      "display_name": "Python 3"
    },
    "language_info": {
      "name": "python"
    }
  },
  "cells": [
    {
      "cell_type": "markdown",
      "metadata": {
        "id": "view-in-github",
        "colab_type": "text"
      },
      "source": [
        "<a href=\"https://colab.research.google.com/github/Aleenahashmi2001/chatbot/blob/main/Chatbot.ipynb\" target=\"_parent\"><img src=\"https://colab.research.google.com/assets/colab-badge.svg\" alt=\"Open In Colab\"/></a>"
      ]
    },
    {
      "cell_type": "code",
      "execution_count": null,
      "metadata": {
        "id": "MXWQgdtgyxT8",
        "colab": {
          "base_uri": "https://localhost:8080/"
        },
        "outputId": "f58c103e-f6ba-4c5f-eeda-e54e615215e1"
      },
      "outputs": [
        {
          "output_type": "stream",
          "name": "stdout",
          "text": [
            "Simple Chatbot: Type 'bye' to exit.\n",
            "You: hi\n",
            "Bot: Hello! How can I assist you?\n",
            "You: how are you\n",
            "Bot: I'm not sure how to respond to that.\n",
            "You: nice\n",
            "Bot: Thank you! I appreciate that.\n",
            "You: bye\n",
            "Goodbye! Have a great day!\n"
          ]
        }
      ],
      "source": [
        "import random\n",
        "\n",
        "def simple_chatbot(user_input):\n",
        "    greetings = [\"hello\", \"hi\", \"hey\", \"howdy\", \"hola\"]\n",
        "    farewells = [\"bye\", \"goodbye\", \"see you\", \"take care\"]\n",
        "    compliments = [\"nice\", \"great\", \"awesome\", \"cool\", \"amazing\"]\n",
        "    responses = {\n",
        "        \"greetings\": \"Hello! How can I assist you?\",\n",
        "        \"farewells\": \"Goodbye! Have a great day!\",\n",
        "        \"compliments\": \"Thank you! I appreciate that.\",\n",
        "        \"default\": \"I'm not sure how to respond to that.\"\n",
        "    }\n",
        "\n",
        "    user_input = user_input.lower()\n",
        "\n",
        "    if user_input in greetings:\n",
        "        return responses[\"greetings\"]\n",
        "    elif user_input in farewells:\n",
        "        return responses[\"farewells\"]\n",
        "    elif any(word in user_input for word in compliments):\n",
        "        return responses[\"compliments\"]\n",
        "    else:\n",
        "        return responses[\"default\"]\n",
        "# Main function to run the chatbot\n",
        "def main():\n",
        "    print(\"Simple Chatbot: Type 'bye' to exit.\")\n",
        "    while True:\n",
        "        user_input = input(\"You: \")\n",
        "        if user_input.lower() == \"bye\":\n",
        "            print(simple_chatbot(user_input))\n",
        "            break\n",
        "        response = simple_chatbot(user_input)\n",
        "        print(\"Bot:\", response)\n",
        "\n",
        "# Run the chatbot\n",
        "if __name__ == \"__main__\":\n",
        "    main()\n"
      ]
    },
    {
      "cell_type": "code",
      "source": [],
      "metadata": {
        "id": "F9lIXqfNzJXn"
      },
      "execution_count": null,
      "outputs": []
    }
  ]
}